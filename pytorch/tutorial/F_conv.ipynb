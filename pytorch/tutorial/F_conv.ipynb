{
 "cells": [
  {
   "metadata": {},
   "cell_type": "markdown",
   "source": [
    "## input image\n",
    "|   |||||\n",
    "|:--|---|---|---|---|\n",
    "| 1 |2|0|3|1|\n",
    "|0|1|2|3|1|\n",
    "|1|2|1|0|0|\n",
    "|5|2|3|1|1|\n",
    "|2|1|0|1|1|\n",
    "\n",
    "---\n",
    "\n",
    "## 卷積核 3*3\n",
    "||||\n",
    "|:--|--|--|\n",
    "|1|2|1|\n",
    "|0|1|0|\n",
    "|2|1|0|\n",
    "\n",
    "---\n",
    "\n",
    "## output\n",
    "|    |    |    |\n",
    "|:---|----|----|\n",
    "| 10 | 12 | 12 |\n",
    "| 18 | 16 | 16 |\n",
    "| 13 | 9  | 3  |\n",
    "\n",
    "\n",
    "\n"
   ],
   "id": "e613fe04244861b8"
  },
  {
   "cell_type": "code",
   "id": "initial_id",
   "metadata": {
    "collapsed": true,
    "ExecuteTime": {
     "end_time": "2025-05-04T05:34:26.032080Z",
     "start_time": "2025-05-04T05:34:26.019360Z"
    }
   },
   "source": [
    "import torch\n",
    "input = torch.tensor([[1, 2, 0, 3, 1],\n",
    "                      [0, 1, 2, 3, 1],\n",
    "                      [1, 2, 1, 0, 0],\n",
    "                      [5, 2, 3, 1, 1],\n",
    "                      [2, 1, 0, 1, 1]])\n",
    "\n",
    "# 核心\n",
    "kernel = torch.tensor([[1, 2, 1],\n",
    "                       [0, 1, 0],\n",
    "                       [2, 1, 0]])\n",
    "\n"
   ],
   "outputs": [],
   "execution_count": 2
  },
  {
   "metadata": {},
   "cell_type": "markdown",
   "source": [
    "## batch_size\n",
    "表示一次处理的样本数量（例如，输入一批图像的个数）。\n",
    "如果只有单张图像，也要保持 4 维，例如 (1, 3, 224, 224)。\n",
    "## in_channels\n",
    "输入数据的通道数，例如：\n",
    "灰度图像：in_channels=1\n",
    "RGB 彩色图像：in_channels=3\n",
    "## height 和 width\n",
    "输入图像的高度和宽度（单位：像素）。\n"
   ],
   "id": "bc47d825a2fb55b"
  },
  {
   "metadata": {
    "ExecuteTime": {
     "end_time": "2025-05-04T05:35:00.641619Z",
     "start_time": "2025-05-04T05:35:00.629436Z"
    }
   },
   "cell_type": "code",
   "source": [
    "# input – input tensor of shape(minibatch, in_channels, iH, iW)\n",
    "input = torch.reshape(input, (1, 1, 5, 5))\n",
    "kernel = torch.reshape(kernel, (1, 1, 3, 3))\n",
    "print(input.shape)\n",
    "print(kernel.shape)"
   ],
   "id": "ed0d9d2ff9ae796d",
   "outputs": [
    {
     "name": "stdout",
     "output_type": "stream",
     "text": [
      "torch.Size([1, 1, 5, 5])\n",
      "torch.Size([1, 1, 3, 3])\n"
     ]
    }
   ],
   "execution_count": 4
  },
  {
   "metadata": {},
   "cell_type": "markdown",
   "source": "",
   "id": "29f8355c1ad7a5fc"
  },
  {
   "metadata": {
    "ExecuteTime": {
     "end_time": "2025-05-04T05:36:13.118240Z",
     "start_time": "2025-05-04T05:36:13.103126Z"
    }
   },
   "cell_type": "code",
   "source": [
    "import torch.nn.functional as F\n",
    "\n",
    "output = F.conv2d(input, kernel, stride=1)\n",
    "print(output.shape)\n",
    "print(output)"
   ],
   "id": "740881c147bff39b",
   "outputs": [
    {
     "name": "stdout",
     "output_type": "stream",
     "text": [
      "torch.Size([1, 1, 3, 3])\n",
      "tensor([[[[10, 12, 12],\n",
      "          [18, 16, 16],\n",
      "          [13,  9,  3]]]])\n"
     ]
    }
   ],
   "execution_count": 5
  },
  {
   "metadata": {
    "ExecuteTime": {
     "end_time": "2025-05-04T05:37:32.203579Z",
     "start_time": "2025-05-04T05:37:32.189263Z"
    }
   },
   "cell_type": "code",
   "source": [
    "output2 = F.conv2d(input, kernel, stride=2)\n",
    "print(output2.shape)\n",
    "print(output2)"
   ],
   "id": "84459e5a3c034b1f",
   "outputs": [
    {
     "name": "stdout",
     "output_type": "stream",
     "text": [
      "torch.Size([1, 1, 2, 2])\n",
      "tensor([[[[10, 12],\n",
      "          [13,  3]]]])\n"
     ]
    }
   ],
   "execution_count": 6
  },
  {
   "metadata": {},
   "cell_type": "markdown",
   "source": "相當於input多了一圈為0",
   "id": "5f9f0ee77c8a9ef1"
  },
  {
   "metadata": {
    "ExecuteTime": {
     "end_time": "2025-05-04T05:39:36.353371Z",
     "start_time": "2025-05-04T05:39:36.340106Z"
    }
   },
   "cell_type": "code",
   "source": [
    "output3 = F.conv2d(input, kernel, stride=1, padding=1)\n",
    "print(output3.shape)\n",
    "print(output3)"
   ],
   "id": "e18d890411a14520",
   "outputs": [
    {
     "name": "stdout",
     "output_type": "stream",
     "text": [
      "torch.Size([1, 1, 5, 5])\n",
      "tensor([[[[ 1,  3,  4, 10,  8],\n",
      "          [ 5, 10, 12, 12,  6],\n",
      "          [ 7, 18, 16, 16,  8],\n",
      "          [11, 13,  9,  3,  4],\n",
      "          [14, 13,  9,  7,  4]]]])\n"
     ]
    }
   ],
   "execution_count": 7
  },
  {
   "metadata": {},
   "cell_type": "code",
   "outputs": [],
   "execution_count": null,
   "source": "",
   "id": "2ca76da8764844c4"
  }
 ],
 "metadata": {
  "kernelspec": {
   "display_name": "Python 3",
   "language": "python",
   "name": "python3"
  },
  "language_info": {
   "codemirror_mode": {
    "name": "ipython",
    "version": 2
   },
   "file_extension": ".py",
   "mimetype": "text/x-python",
   "name": "python",
   "nbconvert_exporter": "python",
   "pygments_lexer": "ipython2",
   "version": "2.7.6"
  }
 },
 "nbformat": 4,
 "nbformat_minor": 5
}
