{
 "cells": [
  {
   "cell_type": "code",
   "id": "initial_id",
   "metadata": {
    "collapsed": true,
    "ExecuteTime": {
     "end_time": "2025-05-04T02:43:43.593168Z",
     "start_time": "2025-05-04T02:43:43.579167Z"
    }
   },
   "source": [
    "from torch.utils.tensorboard import SummaryWriter\n",
    "from PIL import Image\n",
    "import numpy as np"
   ],
   "outputs": [],
   "execution_count": 12
  },
  {
   "metadata": {
    "ExecuteTime": {
     "end_time": "2025-05-04T02:43:57.135189Z",
     "start_time": "2025-05-04T02:43:57.013191Z"
    }
   },
   "cell_type": "code",
   "source": [
    "writer = SummaryWriter(\"logs\")\n",
    "\n",
    "img_path = \"dataset/practical_data/train/ants_image/0013035.jpg\"\n",
    "img_PIL = Image.open(img_path)\n",
    "img_array = np.array(img_PIL) #turn into numpy\n",
    "print(type(img_array))\n",
    "print(img_array.shape)\n",
    "\n",
    "writer.add_image('test', img_array, 1, dataformats='HWC')\n",
    "\n",
    "# y = x\n",
    "for i in range(100):\n",
    "    writer.add_scalar(\"y=x\", i, i)\n",
    "\n",
    "writer.close()\n",
    "\n",
    "# cmd: tensorboard --logdir=logs"
   ],
   "id": "869a87e2f43ab396",
   "outputs": [
    {
     "name": "stdout",
     "output_type": "stream",
     "text": [
      "<class 'numpy.ndarray'>\n",
      "(512, 768, 3)\n"
     ]
    }
   ],
   "execution_count": 14
  },
  {
   "metadata": {},
   "cell_type": "code",
   "outputs": [],
   "execution_count": null,
   "source": "",
   "id": "cbdaa64259b6a799"
  }
 ],
 "metadata": {
  "kernelspec": {
   "display_name": "Python 3",
   "language": "python",
   "name": "python3"
  },
  "language_info": {
   "codemirror_mode": {
    "name": "ipython",
    "version": 2
   },
   "file_extension": ".py",
   "mimetype": "text/x-python",
   "name": "python",
   "nbconvert_exporter": "python",
   "pygments_lexer": "ipython2",
   "version": "2.7.6"
  }
 },
 "nbformat": 4,
 "nbformat_minor": 5
}
