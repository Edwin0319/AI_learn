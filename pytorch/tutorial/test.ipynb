{
 "cells": [
  {
   "cell_type": "code",
   "id": "initial_id",
   "metadata": {
    "collapsed": true,
    "ExecuteTime": {
     "end_time": "2025-05-05T12:04:00.359940Z",
     "start_time": "2025-05-05T12:03:59.502389Z"
    }
   },
   "source": "import torch",
   "outputs": [],
   "execution_count": 1
  },
  {
   "metadata": {
    "ExecuteTime": {
     "end_time": "2025-05-05T12:06:46.784039Z",
     "start_time": "2025-05-05T12:06:46.770236Z"
    }
   },
   "cell_type": "code",
   "source": [
    "outputs = torch.tensor([[0.1, 0.2],\n",
    "                        [0.3, 0.4],])\n",
    "preds = outputs.argmax(dim=1)\n",
    "print(preds) # 1為行最大的index 0為列最大的index\n",
    "targets = torch.tensor([0, 1])\n",
    "print(preds == targets)\n",
    "print((preds == targets).sum())"
   ],
   "id": "c16ad056d841f19b",
   "outputs": [
    {
     "name": "stdout",
     "output_type": "stream",
     "text": [
      "tensor([1, 1])\n",
      "tensor([False,  True])\n",
      "tensor(1)\n"
     ]
    }
   ],
   "execution_count": 5
  },
  {
   "metadata": {},
   "cell_type": "code",
   "outputs": [],
   "execution_count": null,
   "source": "",
   "id": "3a50fac4a9013a13"
  }
 ],
 "metadata": {
  "kernelspec": {
   "display_name": "Python 3",
   "language": "python",
   "name": "python3"
  },
  "language_info": {
   "codemirror_mode": {
    "name": "ipython",
    "version": 2
   },
   "file_extension": ".py",
   "mimetype": "text/x-python",
   "name": "python",
   "nbconvert_exporter": "python",
   "pygments_lexer": "ipython2",
   "version": "2.7.6"
  }
 },
 "nbformat": 4,
 "nbformat_minor": 5
}
