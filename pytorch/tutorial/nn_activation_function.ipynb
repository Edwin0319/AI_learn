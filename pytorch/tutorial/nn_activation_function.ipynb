{
 "cells": [
  {
   "cell_type": "code",
   "id": "initial_id",
   "metadata": {
    "collapsed": true,
    "ExecuteTime": {
     "end_time": "2025-05-04T09:11:00.304700Z",
     "start_time": "2025-05-04T09:11:00.290945Z"
    }
   },
   "source": [
    "import torch\n",
    "import torch.nn as nn"
   ],
   "outputs": [],
   "execution_count": 28
  },
  {
   "metadata": {
    "ExecuteTime": {
     "end_time": "2025-05-04T09:11:00.522312Z",
     "start_time": "2025-05-04T09:11:00.508218Z"
    }
   },
   "cell_type": "code",
   "source": [
    "input = torch.tensor([[1, -0.5],\n",
    "                      [-1, 3]])\n",
    "input = torch.reshape(input, (-1, 1, 2, 2))\n",
    "print(input.shape)"
   ],
   "id": "73d744f4fcc98492",
   "outputs": [
    {
     "name": "stdout",
     "output_type": "stream",
     "text": [
      "torch.Size([1, 1, 2, 2])\n"
     ]
    }
   ],
   "execution_count": 29
  },
  {
   "metadata": {},
   "cell_type": "markdown",
   "source": [
    "## ReLU(input, inplace=True)\n",
    "> 直接把結果給input\n",
    "## output = ReLU(input, inplace=False)\n",
    "> 不會改input, 會把結果return"
   ],
   "id": "e5173648bb6c0174"
  },
  {
   "metadata": {
    "ExecuteTime": {
     "end_time": "2025-05-04T09:11:01.221849Z",
     "start_time": "2025-05-04T09:11:01.217700Z"
    }
   },
   "cell_type": "code",
   "source": [
    "\n",
    "class Simulat(nn.Module):\n",
    "    def __init__(self):\n",
    "        super(Simulat, self).__init__()\n",
    "        self.relu1 = nn.ReLU() # inplace 默認False\n",
    "\n",
    "    def forward(self, x):\n",
    "        output = self.relu1(x)\n",
    "        return output"
   ],
   "id": "17a3be10ec96cce5",
   "outputs": [],
   "execution_count": 30
  },
  {
   "metadata": {
    "ExecuteTime": {
     "end_time": "2025-05-04T09:11:01.546801Z",
     "start_time": "2025-05-04T09:11:01.534836Z"
    }
   },
   "cell_type": "code",
   "source": [
    "simulat = Simulat()\n",
    "output = simulat(input)\n",
    "print(output)"
   ],
   "id": "4d85fab369921ab5",
   "outputs": [
    {
     "name": "stdout",
     "output_type": "stream",
     "text": [
      "tensor([[[[1., 0.],\n",
      "          [0., 3.]]]])\n"
     ]
    }
   ],
   "execution_count": 31
  },
  {
   "metadata": {},
   "cell_type": "markdown",
   "source": [
    "![hgi](./activation_function.png)\n",
    "![f](./activation_function_aside.png)"
   ],
   "id": "5a01e1d09fefd2"
  },
  {
   "metadata": {
    "ExecuteTime": {
     "end_time": "2025-05-04T09:10:58.001004Z",
     "start_time": "2025-05-04T09:10:57.986769Z"
    }
   },
   "cell_type": "code",
   "source": "",
   "id": "8b4b734149320be",
   "outputs": [],
   "execution_count": null
  },
  {
   "metadata": {},
   "cell_type": "code",
   "outputs": [],
   "execution_count": null,
   "source": "",
   "id": "5e4110323a6b742e"
  }
 ],
 "metadata": {
  "kernelspec": {
   "display_name": "Python 3",
   "language": "python",
   "name": "python3"
  },
  "language_info": {
   "codemirror_mode": {
    "name": "ipython",
    "version": 2
   },
   "file_extension": ".py",
   "mimetype": "text/x-python",
   "name": "python",
   "nbconvert_exporter": "python",
   "pygments_lexer": "ipython2",
   "version": "2.7.6"
  }
 },
 "nbformat": 4,
 "nbformat_minor": 5
}
