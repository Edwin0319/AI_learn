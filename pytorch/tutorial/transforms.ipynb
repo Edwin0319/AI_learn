{
 "cells": [
  {
   "cell_type": "code",
   "id": "initial_id",
   "metadata": {
    "collapsed": true,
    "ExecuteTime": {
     "end_time": "2025-05-04T03:33:24.629429Z",
     "start_time": "2025-05-04T03:33:23.384430Z"
    }
   },
   "source": [
    "from torchvision import transforms\n",
    "from PIL import Image\n",
    "import cv2\n"
   ],
   "outputs": [],
   "execution_count": 1
  },
  {
   "metadata": {
    "ExecuteTime": {
     "end_time": "2025-05-04T03:33:28.759989Z",
     "start_time": "2025-05-04T03:33:28.730990Z"
    }
   },
   "cell_type": "code",
   "source": [
    "\n",
    "# tensor data type\n",
    "\n",
    "# img_path = \"dataset/practical_data/train/ants_image/0013035.jpg\"\n",
    "img_path = \"dataset/practical_data/train/ants_image/5650366_e22b7e1065.jpg\"\n",
    "\n",
    "img = Image.open(img_path) # PIL img data type\n",
    "\n",
    "cv_img_BGR = cv2.imread(img_path) # numpy data type # BGR cv2的图片默認是BGR\n",
    "cv_img = cv2.cvtColor(cv_img_BGR, cv2.COLOR_BGR2RGB) # RGB 要轉回RGB\n",
    "\n",
    "print(img)\n",
    "print(cv_img)\n"
   ],
   "id": "aefabc6dfb9f1b59",
   "outputs": [
    {
     "name": "stdout",
     "output_type": "stream",
     "text": [
      "<PIL.JpegImagePlugin.JpegImageFile image mode=RGB size=500x375 at 0x174C8714D90>\n",
      "[[[ 97 119 106]\n",
      "  [ 97 119 106]\n",
      "  [ 98 120 107]\n",
      "  ...\n",
      "  [ 87 103  92]\n",
      "  [ 86 102  91]\n",
      "  [ 85 101  90]]\n",
      "\n",
      " [[ 96 120 107]\n",
      "  [ 97 119 106]\n",
      "  [ 98 120 107]\n",
      "  ...\n",
      "  [ 90 100  91]\n",
      "  [ 89  99  90]\n",
      "  [ 88  98  89]]\n",
      "\n",
      " [[ 97 121 108]\n",
      "  [ 97 121 108]\n",
      "  [ 98 122 108]\n",
      "  ...\n",
      "  [ 95  97  92]\n",
      "  [ 94  96  91]\n",
      "  [ 93  95  90]]\n",
      "\n",
      " ...\n",
      "\n",
      " [[155 152 143]\n",
      "  [155 152 143]\n",
      "  [156 153 144]\n",
      "  ...\n",
      "  [118 117 112]\n",
      "  [118 117 112]\n",
      "  [118 117 112]]\n",
      "\n",
      " [[150 150 138]\n",
      "  [151 151 141]\n",
      "  [151 151 143]\n",
      "  ...\n",
      "  [117 116 111]\n",
      "  [117 116 111]\n",
      "  [117 116 111]]\n",
      "\n",
      " [[148 148 136]\n",
      "  [148 148 138]\n",
      "  [149 148 143]\n",
      "  ...\n",
      "  [116 115 110]\n",
      "  [116 115 110]\n",
      "  [116 115 110]]]\n"
     ]
    }
   ],
   "execution_count": 2
  },
  {
   "metadata": {
    "ExecuteTime": {
     "end_time": "2025-05-04T03:33:29.724668Z",
     "start_time": "2025-05-04T03:33:29.696669Z"
    }
   },
   "cell_type": "code",
   "source": [
    "\n",
    "tensor_trans = transforms.ToTensor()\n",
    "tensor_img = tensor_trans(img)\n",
    "tensor_img2 = tensor_trans(cv_img)\n",
    "print(tensor_img)\n",
    "print(tensor_img2)\n",
    "print()\n",
    "print(type(tensor_img))\n",
    "print(type(tensor_img2))\n",
    "print()\n",
    "print(tensor_img.size(), tensor_img.shape)\n",
    "print(tensor_img2.size(), tensor_img2.shape)\n"
   ],
   "id": "6b70e6baa51efa3a",
   "outputs": [
    {
     "name": "stdout",
     "output_type": "stream",
     "text": [
      "tensor([[[0.3804, 0.3804, 0.3843,  ..., 0.3412, 0.3373, 0.3333],\n",
      "         [0.3765, 0.3804, 0.3843,  ..., 0.3529, 0.3490, 0.3451],\n",
      "         [0.3804, 0.3804, 0.3843,  ..., 0.3725, 0.3686, 0.3647],\n",
      "         ...,\n",
      "         [0.6078, 0.6078, 0.6118,  ..., 0.4627, 0.4627, 0.4627],\n",
      "         [0.5882, 0.5922, 0.5922,  ..., 0.4588, 0.4588, 0.4588],\n",
      "         [0.5804, 0.5804, 0.5843,  ..., 0.4549, 0.4549, 0.4549]],\n",
      "\n",
      "        [[0.4667, 0.4667, 0.4706,  ..., 0.4039, 0.4000, 0.3961],\n",
      "         [0.4706, 0.4667, 0.4706,  ..., 0.3922, 0.3882, 0.3843],\n",
      "         [0.4745, 0.4745, 0.4784,  ..., 0.3804, 0.3765, 0.3725],\n",
      "         ...,\n",
      "         [0.5961, 0.5961, 0.6000,  ..., 0.4588, 0.4588, 0.4588],\n",
      "         [0.5882, 0.5922, 0.5922,  ..., 0.4549, 0.4549, 0.4549],\n",
      "         [0.5804, 0.5804, 0.5804,  ..., 0.4510, 0.4510, 0.4510]],\n",
      "\n",
      "        [[0.4157, 0.4157, 0.4196,  ..., 0.3608, 0.3569, 0.3529],\n",
      "         [0.4196, 0.4157, 0.4196,  ..., 0.3569, 0.3529, 0.3490],\n",
      "         [0.4235, 0.4235, 0.4235,  ..., 0.3608, 0.3569, 0.3529],\n",
      "         ...,\n",
      "         [0.5608, 0.5608, 0.5647,  ..., 0.4392, 0.4392, 0.4392],\n",
      "         [0.5412, 0.5529, 0.5608,  ..., 0.4353, 0.4353, 0.4353],\n",
      "         [0.5333, 0.5412, 0.5608,  ..., 0.4314, 0.4314, 0.4314]]])\n",
      "tensor([[[0.3804, 0.3804, 0.3843,  ..., 0.3412, 0.3373, 0.3333],\n",
      "         [0.3765, 0.3804, 0.3843,  ..., 0.3529, 0.3490, 0.3451],\n",
      "         [0.3804, 0.3804, 0.3843,  ..., 0.3725, 0.3686, 0.3647],\n",
      "         ...,\n",
      "         [0.6078, 0.6078, 0.6118,  ..., 0.4627, 0.4627, 0.4627],\n",
      "         [0.5882, 0.5922, 0.5922,  ..., 0.4588, 0.4588, 0.4588],\n",
      "         [0.5804, 0.5804, 0.5843,  ..., 0.4549, 0.4549, 0.4549]],\n",
      "\n",
      "        [[0.4667, 0.4667, 0.4706,  ..., 0.4039, 0.4000, 0.3961],\n",
      "         [0.4706, 0.4667, 0.4706,  ..., 0.3922, 0.3882, 0.3843],\n",
      "         [0.4745, 0.4745, 0.4784,  ..., 0.3804, 0.3765, 0.3725],\n",
      "         ...,\n",
      "         [0.5961, 0.5961, 0.6000,  ..., 0.4588, 0.4588, 0.4588],\n",
      "         [0.5882, 0.5922, 0.5922,  ..., 0.4549, 0.4549, 0.4549],\n",
      "         [0.5804, 0.5804, 0.5804,  ..., 0.4510, 0.4510, 0.4510]],\n",
      "\n",
      "        [[0.4157, 0.4157, 0.4196,  ..., 0.3608, 0.3569, 0.3529],\n",
      "         [0.4196, 0.4157, 0.4196,  ..., 0.3569, 0.3529, 0.3490],\n",
      "         [0.4235, 0.4235, 0.4235,  ..., 0.3608, 0.3569, 0.3529],\n",
      "         ...,\n",
      "         [0.5608, 0.5608, 0.5647,  ..., 0.4392, 0.4392, 0.4392],\n",
      "         [0.5412, 0.5529, 0.5608,  ..., 0.4353, 0.4353, 0.4353],\n",
      "         [0.5333, 0.5412, 0.5608,  ..., 0.4314, 0.4314, 0.4314]]])\n",
      "\n",
      "<class 'torch.Tensor'>\n",
      "<class 'torch.Tensor'>\n",
      "\n",
      "torch.Size([3, 375, 500]) torch.Size([3, 375, 500])\n",
      "torch.Size([3, 375, 500]) torch.Size([3, 375, 500])\n"
     ]
    }
   ],
   "execution_count": 3
  },
  {
   "metadata": {
    "ExecuteTime": {
     "end_time": "2025-05-04T03:33:30.672577Z",
     "start_time": "2025-05-04T03:33:30.469609Z"
    }
   },
   "cell_type": "code",
   "source": [
    "from torch.utils.tensorboard import SummaryWriter\n",
    "writer = SummaryWriter(\"logs\")\n",
    "writer.add_image('image', tensor_img, 1)\n",
    "writer.add_image('image', tensor_img2, 2)\n",
    "writer.close()\n",
    "# cmd: tensorboard --logdir=logs"
   ],
   "id": "c86f7e150a55cfad",
   "outputs": [],
   "execution_count": 4
  },
  {
   "metadata": {
    "ExecuteTime": {
     "end_time": "2025-05-04T03:22:51.321267Z",
     "start_time": "2025-05-04T03:22:51.312269Z"
    }
   },
   "cell_type": "code",
   "source": "",
   "id": "7eda11d15e5830b2",
   "outputs": [],
   "execution_count": null
  },
  {
   "metadata": {},
   "cell_type": "code",
   "outputs": [],
   "execution_count": null,
   "source": "",
   "id": "1a2d336179d05b94"
  }
 ],
 "metadata": {
  "kernelspec": {
   "display_name": "Python 3",
   "language": "python",
   "name": "python3"
  },
  "language_info": {
   "codemirror_mode": {
    "name": "ipython",
    "version": 2
   },
   "file_extension": ".py",
   "mimetype": "text/x-python",
   "name": "python",
   "nbconvert_exporter": "python",
   "pygments_lexer": "ipython2",
   "version": "2.7.6"
  }
 },
 "nbformat": 4,
 "nbformat_minor": 5
}
