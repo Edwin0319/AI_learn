{
 "cells": [
  {
   "metadata": {},
   "cell_type": "markdown",
   "source": [
    "torch.nn.Conv2d(in_channels, out_channels, kernel_size, stride=1, padding=0, dilation=1, groups=1, bias=True, padding_mode='zeros', device=None, dtype=None)\n",
    "\n",
    "torch.nn.Conv2d(in_channels, out_channels, kernel_size, stride=1, padding=0)\n",
    "\n",
    "`out_channels`有多少個,就有多少個 **卷積核** 進行操作\n",
    "\n",
    "`in_channels` 的作用：表示当前卷积层需要处理的输入数据的通道数。\n",
    "\n",
    "规则：第 N 层卷积的 in_channels 必须等于第 N−1 层卷积的 out_channels。"
   ],
   "id": "d1f9e62a0920aaf8"
  },
  {
   "cell_type": "code",
   "id": "initial_id",
   "metadata": {
    "collapsed": true,
    "ExecuteTime": {
     "end_time": "2025-05-04T08:55:32.236578Z",
     "start_time": "2025-05-04T08:55:30.898521Z"
    }
   },
   "source": [
    "import torch\n",
    "import torchvision\n",
    "from torch.utils.data import DataLoader\n",
    "import torch.nn as nn\n",
    "from torch.utils.tensorboard import SummaryWriter"
   ],
   "outputs": [],
   "execution_count": 1
  },
  {
   "metadata": {
    "ExecuteTime": {
     "end_time": "2025-05-04T08:55:32.703559Z",
     "start_time": "2025-05-04T08:55:32.241578Z"
    }
   },
   "cell_type": "code",
   "source": "dataset = torchvision.datasets.CIFAR10(root=\"./dataset\", train=False, transform=torchvision.transforms.ToTensor(), download=True)",
   "id": "ffb2107e7969deec",
   "outputs": [
    {
     "name": "stdout",
     "output_type": "stream",
     "text": [
      "Files already downloaded and verified\n"
     ]
    }
   ],
   "execution_count": 2
  },
  {
   "metadata": {
    "ExecuteTime": {
     "end_time": "2025-05-04T08:55:32.749697Z",
     "start_time": "2025-05-04T08:55:32.735697Z"
    }
   },
   "cell_type": "code",
   "source": [
    "# 64個一組, 分完dataset\n",
    "dataloader = DataLoader(dataset, batch_size=64)\n",
    "\n",
    "class Tudui(nn.Module):\n",
    "    def __init__(self):\n",
    "        super(Tudui, self).__init__()\n",
    "        # https://pytorch.org/docs/stable/generated/torch.nn.Conv2d.html#torch.nn.Conv2d out_channels公式\n",
    "        self.conv1 = nn.Conv2d(in_channels=3, out_channels=6, kernel_size=3, stride=1, padding=0)\n",
    "\n",
    "    def forward(self, x):\n",
    "        x = self.conv1(x)\n",
    "        return x"
   ],
   "id": "463c30e81d3fe82b",
   "outputs": [],
   "execution_count": 3
  },
  {
   "metadata": {},
   "cell_type": "markdown",
   "source": [
    "多張圖片用\n",
    "\n",
    "# add_images()\n",
    "\n",
    "不是 add_image()\n"
   ],
   "id": "19a82740b6b72bef"
  },
  {
   "metadata": {
    "ExecuteTime": {
     "end_time": "2025-05-04T08:55:44.215164Z",
     "start_time": "2025-05-04T08:55:32.766698Z"
    }
   },
   "cell_type": "code",
   "source": [
    "tudui = Tudui()\n",
    "writer = SummaryWriter(\"./nn_conv_logs\")\n",
    "step = 0\n",
    "\n",
    "\n",
    "print(tudui)\n",
    "for data in dataloader:\n",
    "    imgs, targets = data\n",
    "    output = tudui(imgs)\n",
    "    # print(imgs.shape)\n",
    "    # print(output.shape)\n",
    "\n",
    "    # torch.Size([64, 3, 32, 32])\n",
    "    writer.add_images(\"input\", imgs, step)\n",
    "\n",
    "    # torch.Size([64, 16, 30, 30]) 有6個channels\n",
    "    # 把channels改成3, bitch_size會變,寫-1自動改\n",
    "    output = torch.reshape(output, (-1, 3, 30, 30))\n",
    "    writer.add_images(\"output\", output, step)\n",
    "\n",
    "    step = step + 1\n",
    "writer.close()"
   ],
   "id": "9f813d171e704594",
   "outputs": [
    {
     "name": "stdout",
     "output_type": "stream",
     "text": [
      "Tudui(\n",
      "  (conv1): Conv2d(3, 6, kernel_size=(3, 3), stride=(1, 1))\n",
      ")\n"
     ]
    }
   ],
   "execution_count": 4
  }
 ],
 "metadata": {
  "kernelspec": {
   "display_name": "Python 3",
   "language": "python",
   "name": "python3"
  },
  "language_info": {
   "codemirror_mode": {
    "name": "ipython",
    "version": 2
   },
   "file_extension": ".py",
   "mimetype": "text/x-python",
   "name": "python",
   "nbconvert_exporter": "python",
   "pygments_lexer": "ipython2",
   "version": "2.7.6"
  }
 },
 "nbformat": 4,
 "nbformat_minor": 5
}
