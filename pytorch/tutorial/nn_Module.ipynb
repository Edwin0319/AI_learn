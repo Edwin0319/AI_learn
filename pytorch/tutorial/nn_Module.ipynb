{
 "cells": [
  {
   "cell_type": "code",
   "id": "initial_id",
   "metadata": {
    "collapsed": true,
    "ExecuteTime": {
     "end_time": "2025-05-04T04:55:00.284285Z",
     "start_time": "2025-05-04T04:55:00.271485Z"
    }
   },
   "source": [
    "import torch.nn as nn\n",
    "import torch"
   ],
   "outputs": [],
   "execution_count": 13
  },
  {
   "metadata": {},
   "cell_type": "markdown",
   "source": "## [Module](https://pytorch.org/docs/stable/generated/torch.nn.Module.html#torch.nn.Module)",
   "id": "f15687d01db08f50"
  },
  {
   "metadata": {
    "ExecuteTime": {
     "end_time": "2025-05-04T04:55:10.456805Z",
     "start_time": "2025-05-04T04:55:10.442643Z"
    }
   },
   "cell_type": "code",
   "source": [
    "class Tudui(nn.Module):\n",
    "    def __init__(self):\n",
    "        super(Tudui, self).__init__()\n",
    "    def forward(self, input):\n",
    "        output = input + 1\n",
    "        return output\n",
    "\n"
   ],
   "id": "6858bf5063963280",
   "outputs": [],
   "execution_count": 17
  },
  {
   "metadata": {},
   "cell_type": "markdown",
   "source": [
    "当你调用继承自 nn.Module 的子类实例时（例如 tudui(x)），实际上会触发以下机制：\n",
    "\n",
    "#### `__call__ 方法的自动调用`\n",
    "nn.Module 类实现了 Python 的 __call__ 魔术方法。当你执行 tudui(x) 时，Python 会隐式调用 tudui.__call__(x)。\n",
    "#### `_call__ 内部调用 forward`\n",
    "nn.Module 的 __call__ 方法内部会调用 forward 方法，并处理一些底层逻辑（例如钩子、梯度跟踪等）。因此，直接调用实例 tudui(x) 实际上等价于调用 tudui.forward(x)，但前者是 PyTorch 推荐的方式。\n",
    "#### `为什么不能直接调用 forward？`\n",
    "虽然技术上可以调用 tudui.forward(x)，但这会绕过 __call__ 中封装的重要逻辑（例如自动梯度记录）。通过实例调用能确保 PyTorch 的功能完整性。\n",
    "#### `你的代码为什么能工作？`\n",
    "你的代码 output = tudui(x) 正是通过 __call__ 触发了 forward，所以即使没有显式写 forward()，结果依然正确。"
   ],
   "id": "482b93ce60c5e3cc"
  },
  {
   "metadata": {
    "ExecuteTime": {
     "end_time": "2025-05-04T04:55:10.828519Z",
     "start_time": "2025-05-04T04:55:10.815907Z"
    }
   },
   "cell_type": "code",
   "source": [
    "tudui = Tudui()\n",
    "x = torch.tensor(1.0)\n",
    "print(x)\n",
    "output = tudui(x)\n",
    "print(output)"
   ],
   "id": "52e290842d43c34a",
   "outputs": [
    {
     "name": "stdout",
     "output_type": "stream",
     "text": [
      "tensor(1.)\n",
      "tensor(2.)\n"
     ]
    }
   ],
   "execution_count": 18
  },
  {
   "metadata": {},
   "cell_type": "code",
   "outputs": [],
   "execution_count": null,
   "source": "",
   "id": "496ad767d3a624c9"
  }
 ],
 "metadata": {
  "kernelspec": {
   "display_name": "Python 3",
   "language": "python",
   "name": "python3"
  },
  "language_info": {
   "codemirror_mode": {
    "name": "ipython",
    "version": 2
   },
   "file_extension": ".py",
   "mimetype": "text/x-python",
   "name": "python",
   "nbconvert_exporter": "python",
   "pygments_lexer": "ipython2",
   "version": "2.7.6"
  }
 },
 "nbformat": 4,
 "nbformat_minor": 5
}
