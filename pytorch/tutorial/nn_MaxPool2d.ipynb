{
 "cells": [
  {
   "metadata": {},
   "cell_type": "markdown",
   "source": [
    "## input image\n",
    "|   |||||\n",
    "|:--|---|---|---|---|\n",
    "| 1 |2|0|3|1|\n",
    "|0|1|2|3|1|\n",
    "|1|2|1|0|0|\n",
    "|5|2|3|1|1|\n",
    "|2|1|0|1|1|\n",
    "\n",
    "---\n",
    "\n",
    "最大池化相當於降底畫質(馬賽克), 訓練得更快"
   ],
   "id": "5072b255a2bc63ee"
  },
  {
   "cell_type": "code",
   "id": "initial_id",
   "metadata": {
    "collapsed": true,
    "ExecuteTime": {
     "end_time": "2025-05-04T08:55:09.676706Z",
     "start_time": "2025-05-04T08:55:09.661707Z"
    }
   },
   "source": [
    "import torch\n",
    "import numpy as np"
   ],
   "outputs": [],
   "execution_count": 7
  },
  {
   "metadata": {
    "ExecuteTime": {
     "end_time": "2025-05-04T08:55:10.614632Z",
     "start_time": "2025-05-04T08:55:10.601502Z"
    }
   },
   "cell_type": "code",
   "source": [
    "input = torch.tensor([[1, 2, 0, 3, 1],\n",
    "                      [0, 1, 2, 3, 1],\n",
    "                      [1, 2, 1, 0, 0],\n",
    "                      [5, 2, 3, 1, 1],\n",
    "                      [2, 1, 0, 1, 1]], dtype=torch.float32)\n",
    "\n",
    "input = torch.reshape(input, (-1, 1, 5, 5))\n",
    "print(input.shape)\n",
    "print(input)\n"
   ],
   "id": "4f1390b52aec3101",
   "outputs": [
    {
     "name": "stdout",
     "output_type": "stream",
     "text": [
      "torch.Size([1, 1, 5, 5])\n",
      "tensor([[[[1., 2., 0., 3., 1.],\n",
      "          [0., 1., 2., 3., 1.],\n",
      "          [1., 2., 1., 0., 0.],\n",
      "          [5., 2., 3., 1., 1.],\n",
      "          [2., 1., 0., 1., 1.]]]])\n"
     ]
    }
   ],
   "execution_count": 8
  },
  {
   "metadata": {
    "ExecuteTime": {
     "end_time": "2025-05-04T08:55:11.569908Z",
     "start_time": "2025-05-04T08:55:11.555189Z"
    }
   },
   "cell_type": "code",
   "source": [
    "import torch.nn as nn\n",
    "class Pool(nn.Module):\n",
    "    def __init__(self):\n",
    "        super(Pool, self).__init__()\n",
    "        self.maxpool1 = nn.MaxPool2d(kernel_size=3, ceil_mode=True)\n",
    "\n",
    "    def forward(self, x):\n",
    "        output = self.maxpool1(x)\n",
    "        return output\n"
   ],
   "id": "a50b6c9eee0bdb58",
   "outputs": [],
   "execution_count": 9
  },
  {
   "metadata": {
    "ExecuteTime": {
     "end_time": "2025-05-04T08:55:12.608110Z",
     "start_time": "2025-05-04T08:55:12.594022Z"
    }
   },
   "cell_type": "code",
   "source": [
    "pool = Pool()\n",
    "output = pool(input)\n",
    "print(output)"
   ],
   "id": "d7cb0f758210739b",
   "outputs": [
    {
     "name": "stdout",
     "output_type": "stream",
     "text": [
      "tensor([[[[2., 3.],\n",
      "          [5., 1.]]]])\n"
     ]
    }
   ],
   "execution_count": 10
  },
  {
   "metadata": {},
   "cell_type": "code",
   "outputs": [],
   "execution_count": null,
   "source": "",
   "id": "69c4731b913d5fc9"
  }
 ],
 "metadata": {
  "kernelspec": {
   "display_name": "Python 3",
   "language": "python",
   "name": "python3"
  },
  "language_info": {
   "codemirror_mode": {
    "name": "ipython",
    "version": 2
   },
   "file_extension": ".py",
   "mimetype": "text/x-python",
   "name": "python",
   "nbconvert_exporter": "python",
   "pygments_lexer": "ipython2",
   "version": "2.7.6"
  }
 },
 "nbformat": 4,
 "nbformat_minor": 5
}
