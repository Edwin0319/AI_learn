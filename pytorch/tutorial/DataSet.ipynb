{
 "cells": [
  {
   "cell_type": "code",
   "id": "79728ebe-767e-4598-9e77-8bfc50a22386",
   "metadata": {
    "ExecuteTime": {
     "end_time": "2025-05-04T02:08:52.102836Z",
     "start_time": "2025-05-04T02:08:51.275574Z"
    }
   },
   "source": [
    "from torch.utils.data import Dataset\n",
    "from PIL import Image\n",
    "import os\n",
    "os.environ[\"KMP_DUPLICATE_LIB_OK\"] = \"True\"\n"
   ],
   "outputs": [],
   "execution_count": 3
  },
  {
   "cell_type": "code",
   "id": "073793ce-e941-49fb-8463-dd58dfe7ad41",
   "metadata": {
    "ExecuteTime": {
     "end_time": "2025-05-04T02:08:52.829173Z",
     "start_time": "2025-05-04T02:08:52.816865Z"
    }
   },
   "source": [
    "class MyData(Dataset):\n",
    "    def __init__(self, root_dir, label_dir=''):\n",
    "        self.root_dir = root_dir\n",
    "        self.label_dir = label_dir\n",
    "        self.path = os.path.join(self.root_dir, self.label_dir)\n",
    "        self.img_path = os.listdir(self.path)\n",
    "\n",
    "    def __getitem__(self, idx):\n",
    "        img_name = self.img_path[idx]\n",
    "        img_item_path = os.path.join(self.path, img_name)\n",
    "        img = Image.open(img_item_path)\n",
    "        label = self.label_dir\n",
    "        return img, label\n",
    "\n",
    "    def __len__(self):\n",
    "        return len(self.img_path)"
   ],
   "outputs": [],
   "execution_count": 4
  },
  {
   "cell_type": "code",
   "id": "45ea2ae7-d7b9-4a25-9567-cb91f76ef6d4",
   "metadata": {
    "ExecuteTime": {
     "end_time": "2025-05-04T02:09:46.143257Z",
     "start_time": "2025-05-04T02:09:46.066256Z"
    }
   },
   "source": [
    "root_dir = 'dataset'\n",
    "label_dir = \"hymenoptera_data/train/ants\"\n",
    "my_dataset = MyData(root_dir, label_dir)\n",
    "img, label = my_dataset[0]\n",
    "img.show()\n",
    "label\n"
   ],
   "outputs": [
    {
     "data": {
      "text/plain": [
       "'hymenoptera_data/train/ants'"
      ]
     },
     "execution_count": 8,
     "metadata": {},
     "output_type": "execute_result"
    }
   ],
   "execution_count": 8
  },
  {
   "metadata": {},
   "cell_type": "code",
   "outputs": [],
   "execution_count": null,
   "source": "",
   "id": "3cb372e3b732ea15"
  }
 ],
 "metadata": {
  "kernelspec": {
   "display_name": "Python 3 (ipykernel)",
   "language": "python",
   "name": "python3"
  },
  "language_info": {
   "codemirror_mode": {
    "name": "ipython",
    "version": 3
   },
   "file_extension": ".py",
   "mimetype": "text/x-python",
   "name": "python",
   "nbconvert_exporter": "python",
   "pygments_lexer": "ipython3",
   "version": "3.8.20"
  }
 },
 "nbformat": 4,
 "nbformat_minor": 5
}
