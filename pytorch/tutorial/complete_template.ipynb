{
 "cells": [
  {
   "metadata": {},
   "cell_type": "markdown",
   "source": "導入Lib",
   "id": "20e2cdb6258961ed"
  },
  {
   "cell_type": "code",
   "id": "initial_id",
   "metadata": {
    "collapsed": true,
    "ExecuteTime": {
     "end_time": "2025-05-09T10:44:06.365220Z",
     "start_time": "2025-05-09T10:44:06.348222Z"
    }
   },
   "source": [
    "import torch\n",
    "import torch.nn as nn\n",
    "import torchvision\n",
    "from torch.utils.tensorboard import SummaryWriter\n",
    "from torch.utils.data import DataLoader, random_split, RandomSampler\n",
    "import time\n",
    "import os\n",
    "# os.environ[\"KMP_DUPLICATE_LIB_OK\"] = \"True\""
   ],
   "outputs": [],
   "execution_count": 13
  },
  {
   "metadata": {},
   "cell_type": "markdown",
   "source": "# 1. 準備數據集",
   "id": "d4232870b9cf827b"
  },
  {
   "metadata": {
    "ExecuteTime": {
     "end_time": "2025-05-09T10:44:07.326424Z",
     "start_time": "2025-05-09T10:44:06.371220Z"
    }
   },
   "cell_type": "code",
   "source": [
    "# 下載數據\n",
    "train_data = torchvision.datasets.CIFAR10(root=\"./dataset\", train=True, download=True, transform=torchvision.transforms.ToTensor())\n",
    "test_data = torchvision.datasets.CIFAR10(root=\"./dataset\", train=False, download=True, transform=torchvision.transforms.ToTensor())\n",
    "\n",
    "train_data_size = len(train_data)\n",
    "test_data_size = len(test_data)\n",
    "print(f\"訓練數據集的長度為:{train_data_size}\")\n",
    "print(type(train_data))\n",
    "print(f\"測試數據集的長度為:{test_data_size}\")\n",
    "print(type(test_data))\n",
    "\n",
    "# 用DataLoader加載數據集  # 打亂數據\n",
    "train_loader = DataLoader(train_data, batch_size=64, sampler=RandomSampler(train_data, replacement=False)) # replacement=False 一個樣本只采樣一次 # sampler定義取bitch的方法\n",
    "test_loader = DataLoader(test_data, batch_size=64, shuffle=True) # shuffle=True 會打亂順序\n",
    "\n"
   ],
   "id": "d1f792b8d2ccfa31",
   "outputs": [
    {
     "name": "stdout",
     "output_type": "stream",
     "text": [
      "Files already downloaded and verified\n",
      "Files already downloaded and verified\n",
      "訓練數據集的長度為:50000\n",
      "<class 'torchvision.datasets.cifar.CIFAR10'>\n",
      "測試數據集的長度為:10000\n",
      "<class 'torchvision.datasets.cifar.CIFAR10'>\n"
     ]
    }
   ],
   "execution_count": 14
  },
  {
   "metadata": {},
   "cell_type": "markdown",
   "source": "# 2. 塔建神經網絡",
   "id": "8615df46b290a083"
  },
  {
   "metadata": {
    "ExecuteTime": {
     "end_time": "2025-05-09T10:44:07.479726Z",
     "start_time": "2025-05-09T10:44:07.465727Z"
    }
   },
   "cell_type": "code",
   "source": [
    "class Net(nn.Module):\n",
    "    def __init__(self):\n",
    "        super(Net, self).__init__()\n",
    "        self.model = nn.Sequential(\n",
    "            nn.Conv2d(in_channels=3, out_channels=32, kernel_size=5, stride=1, padding=2),\n",
    "            nn.ReLU(), # 激活層通常在 Conv或Linear 後, 除了最後一層\n",
    "            nn.MaxPool2d(kernel_size=2),\n",
    "            nn.Conv2d(in_channels=32, out_channels=32, kernel_size=5, stride=1, padding=2),\n",
    "            nn.ReLU(),\n",
    "            nn.MaxPool2d(kernel_size=2),\n",
    "            nn.Conv2d(in_channels=32, out_channels=64, kernel_size=5, stride=1, padding=2),\n",
    "            nn.ReLU(),\n",
    "            nn.MaxPool2d(kernel_size=2),\n",
    "            nn.Flatten(),\n",
    "            nn.Linear(in_features=64 * 4 * 4, out_features=64), # out_channels是64 所以in_features是64, 32*32的圖片經過三次池化變成4*4\n",
    "            nn.ReLU(),\n",
    "            nn.Dropout(p=0.2), # 每個數據有20%概率歸零, Dropout通常在全連拉層後的激活層後\n",
    "            nn.Linear(in_features=64, out_features=10)\n",
    "        )\n",
    "\n",
    "    def forward(self, x):\n",
    "        x = self.model(x)\n",
    "        return x\n"
   ],
   "id": "9d92e74620106f6c",
   "outputs": [],
   "execution_count": 15
  },
  {
   "metadata": {},
   "cell_type": "markdown",
   "source": [
    "# 3. 訓練和測試模型\n",
    "GPU方法用在 模型,損失函數,數據"
   ],
   "id": "bc20519abd0d98cd"
  },
  {
   "metadata": {
    "ExecuteTime": {
     "end_time": "2025-05-09T10:56:18.672393Z",
     "start_time": "2025-05-09T10:56:10.445652Z"
    }
   },
   "cell_type": "code",
   "source": [
    "# 定義訓練的設備\n",
    "device = torch.device(\"cuda\" if torch.cuda.is_available() else \"cpu\")\n",
    "# 創造網絡模型\n",
    "\n",
    "net = Net()\n",
    "net.to(device)\n",
    "\n",
    "\n",
    "# 損失數\n",
    "criterion = nn.CrossEntropyLoss()\n",
    "criterion.to(device)\n",
    "\n",
    "# 優化器\n",
    "# 1e-2 = 1*(10)^(-2) = 0.01\n",
    "learning_rate = 0.003 # 學習速度\n",
    "# optimizer = torch.optim.SGD(net.parameters(), lr=learning_rate)\n",
    "optimizer = torch.optim.Adam(net.parameters(), lr=learning_rate)\n",
    "\n",
    "# 設置訓練網絡的一些參數\n",
    "# 記錄訓練的次數\n",
    "total_train_step = 0\n",
    "# 記錄測試的次數\n",
    "total_test_step = 0\n",
    "# 訓練的輪數\n",
    "epoch = 30\n",
    "\n",
    "# 添加tensorboard\n",
    "writer = SummaryWriter(\"./template_logs\")\n",
    "\n",
    "# 開始計時\n",
    "start_time = time.time()\n",
    "\n",
    "for i in range(epoch):\n",
    "    print(f\"~~~~~~~~~~~~~~~~~~~~第{i + 1}輪訓練開始~~~~~~~~~~~~~~~~~~~~\")\n",
    "\n",
    "    #開始訓練\n",
    "    net.train()\n",
    "    for train_data in train_loader:\n",
    "        train_imgs, train_labels = train_data\n",
    "        train_imgs = (train_imgs.float() - train_imgs.float().mean()) / train_imgs.float().std()\n",
    "        train_imgs = train_imgs.to(device)\n",
    "        train_labels = train_labels.to(device)\n",
    "\n",
    "        # 獲得10個分類的概率\n",
    "        train_output = net(train_imgs)\n",
    "        # 損失\n",
    "        train_loss = criterion(train_output, train_labels)\n",
    "\n",
    "        # 優化器優化模型\n",
    "        optimizer.zero_grad()\n",
    "        train_loss.backward()\n",
    "        optimizer.step()\n",
    "\n",
    "        total_train_step += 1\n",
    "        if total_train_step % 100 == 0:\n",
    "            # print(f\"訓練次數: {total_train_step}, Loss: {train_loss}\")\n",
    "            # train_loss的dtype是torch.Tensor     train_loss.item()的dtype是float\n",
    "            # print(type(train_loss), type(train_loss.item()))\n",
    "            writer.add_scalar(\"train_loss\", train_loss, total_train_step)\n",
    "\n",
    "\n",
    "    # 記錄誤差和\n",
    "    total_test_loss = 0\n",
    "    # 整體正確個數\n",
    "    total_accuracy = 0\n",
    "    # 測試步驟開始\n",
    "    net.eval()\n",
    "    with torch.no_grad(): # 裏面的代碼没有梯度, 保証不會對其進行調優\n",
    "        for test_data in test_loader:\n",
    "            test_imgs, test_labels = test_data\n",
    "            test_imgs = test_imgs.to(device)\n",
    "            test_labels = test_labels.to(device)\n",
    "\n",
    "            test_output = net(test_imgs)\n",
    "\n",
    "            test_loss = criterion(test_output, test_labels)\n",
    "            total_test_loss += test_loss.item()\n",
    "\n",
    "            accuracy = (test_output.argmax(dim=1) == test_labels).sum() # 預測正確個數\n",
    "            total_accuracy += accuracy\n",
    "\n",
    "    prob = total_accuracy / test_data_size * 100\n",
    "    print(f\"整體測試集上的Loss: {total_test_loss}\")\n",
    "    print(f\"整體測試集上的正確率: {prob:.3f}%\")\n",
    "    writer.add_scalar(\"test_loss\", total_test_loss, total_test_step)\n",
    "    writer.add_scalar(\"test_accuracy\", total_accuracy / test_data_size, total_test_step)\n",
    "    total_test_step += 1\n",
    "\n",
    "    model = f\"net_{i+1}_{prob:.3f}.pth\"\n",
    "    torch.save(net.state_dict(), f\"./models/complete_template/{model}\")\n",
    "    print(f\"模型 {model} 已保存\")\n",
    "\n",
    "# 結束計時\n",
    "end_time = time.time()\n",
    "print(f\"用时: {end_time - start_time}\")\n",
    "writer.close()\n"
   ],
   "id": "91b5ee3ce14d243e",
   "outputs": [
    {
     "name": "stdout",
     "output_type": "stream",
     "text": [
      "~~~~~~~~~~~~~~~~~~~~第1輪訓練開始~~~~~~~~~~~~~~~~~~~~\n",
      "整體測試集上的Loss: 334.7808505296707\n",
      "整體測試集上的正確率: 23.990%\n",
      "模型 net_1_23.990.pth 已保存\n",
      "~~~~~~~~~~~~~~~~~~~~第2輪訓練開始~~~~~~~~~~~~~~~~~~~~\n"
     ]
    },
    {
     "ename": "KeyboardInterrupt",
     "evalue": "",
     "output_type": "error",
     "traceback": [
      "\u001B[1;31m---------------------------------------------------------------------------\u001B[0m",
      "\u001B[1;31mKeyboardInterrupt\u001B[0m                         Traceback (most recent call last)",
      "Cell \u001B[1;32mIn[18], line 38\u001B[0m\n\u001B[0;32m     36\u001B[0m \u001B[38;5;66;03m#開始訓練\u001B[39;00m\n\u001B[0;32m     37\u001B[0m net\u001B[38;5;241m.\u001B[39mtrain()\n\u001B[1;32m---> 38\u001B[0m \u001B[38;5;28;01mfor\u001B[39;00m train_data \u001B[38;5;129;01min\u001B[39;00m train_loader:\n\u001B[0;32m     39\u001B[0m     train_imgs, train_labels \u001B[38;5;241m=\u001B[39m train_data\n\u001B[0;32m     40\u001B[0m     train_imgs \u001B[38;5;241m=\u001B[39m (train_imgs\u001B[38;5;241m.\u001B[39mfloat() \u001B[38;5;241m-\u001B[39m train_imgs\u001B[38;5;241m.\u001B[39mfloat()\u001B[38;5;241m.\u001B[39mmean()) \u001B[38;5;241m/\u001B[39m train_imgs\u001B[38;5;241m.\u001B[39mfloat()\u001B[38;5;241m.\u001B[39mstd()\n",
      "File \u001B[1;32mD:\\APP\\miniconda\\envs\\ai_env\\lib\\site-packages\\torch\\utils\\data\\dataloader.py:630\u001B[0m, in \u001B[0;36m_BaseDataLoaderIter.__next__\u001B[1;34m(self)\u001B[0m\n\u001B[0;32m    627\u001B[0m \u001B[38;5;28;01mif\u001B[39;00m \u001B[38;5;28mself\u001B[39m\u001B[38;5;241m.\u001B[39m_sampler_iter \u001B[38;5;129;01mis\u001B[39;00m \u001B[38;5;28;01mNone\u001B[39;00m:\n\u001B[0;32m    628\u001B[0m     \u001B[38;5;66;03m# TODO(https://github.com/pytorch/pytorch/issues/76750)\u001B[39;00m\n\u001B[0;32m    629\u001B[0m     \u001B[38;5;28mself\u001B[39m\u001B[38;5;241m.\u001B[39m_reset()  \u001B[38;5;66;03m# type: ignore[call-arg]\u001B[39;00m\n\u001B[1;32m--> 630\u001B[0m data \u001B[38;5;241m=\u001B[39m \u001B[38;5;28;43mself\u001B[39;49m\u001B[38;5;241;43m.\u001B[39;49m\u001B[43m_next_data\u001B[49m\u001B[43m(\u001B[49m\u001B[43m)\u001B[49m\n\u001B[0;32m    631\u001B[0m \u001B[38;5;28mself\u001B[39m\u001B[38;5;241m.\u001B[39m_num_yielded \u001B[38;5;241m+\u001B[39m\u001B[38;5;241m=\u001B[39m \u001B[38;5;241m1\u001B[39m\n\u001B[0;32m    632\u001B[0m \u001B[38;5;28;01mif\u001B[39;00m \u001B[38;5;28mself\u001B[39m\u001B[38;5;241m.\u001B[39m_dataset_kind \u001B[38;5;241m==\u001B[39m _DatasetKind\u001B[38;5;241m.\u001B[39mIterable \u001B[38;5;129;01mand\u001B[39;00m \\\n\u001B[0;32m    633\u001B[0m         \u001B[38;5;28mself\u001B[39m\u001B[38;5;241m.\u001B[39m_IterableDataset_len_called \u001B[38;5;129;01mis\u001B[39;00m \u001B[38;5;129;01mnot\u001B[39;00m \u001B[38;5;28;01mNone\u001B[39;00m \u001B[38;5;129;01mand\u001B[39;00m \\\n\u001B[0;32m    634\u001B[0m         \u001B[38;5;28mself\u001B[39m\u001B[38;5;241m.\u001B[39m_num_yielded \u001B[38;5;241m>\u001B[39m \u001B[38;5;28mself\u001B[39m\u001B[38;5;241m.\u001B[39m_IterableDataset_len_called:\n",
      "File \u001B[1;32mD:\\APP\\miniconda\\envs\\ai_env\\lib\\site-packages\\torch\\utils\\data\\dataloader.py:673\u001B[0m, in \u001B[0;36m_SingleProcessDataLoaderIter._next_data\u001B[1;34m(self)\u001B[0m\n\u001B[0;32m    671\u001B[0m \u001B[38;5;28;01mdef\u001B[39;00m \u001B[38;5;21m_next_data\u001B[39m(\u001B[38;5;28mself\u001B[39m):\n\u001B[0;32m    672\u001B[0m     index \u001B[38;5;241m=\u001B[39m \u001B[38;5;28mself\u001B[39m\u001B[38;5;241m.\u001B[39m_next_index()  \u001B[38;5;66;03m# may raise StopIteration\u001B[39;00m\n\u001B[1;32m--> 673\u001B[0m     data \u001B[38;5;241m=\u001B[39m \u001B[38;5;28;43mself\u001B[39;49m\u001B[38;5;241;43m.\u001B[39;49m\u001B[43m_dataset_fetcher\u001B[49m\u001B[38;5;241;43m.\u001B[39;49m\u001B[43mfetch\u001B[49m\u001B[43m(\u001B[49m\u001B[43mindex\u001B[49m\u001B[43m)\u001B[49m  \u001B[38;5;66;03m# may raise StopIteration\u001B[39;00m\n\u001B[0;32m    674\u001B[0m     \u001B[38;5;28;01mif\u001B[39;00m \u001B[38;5;28mself\u001B[39m\u001B[38;5;241m.\u001B[39m_pin_memory:\n\u001B[0;32m    675\u001B[0m         data \u001B[38;5;241m=\u001B[39m _utils\u001B[38;5;241m.\u001B[39mpin_memory\u001B[38;5;241m.\u001B[39mpin_memory(data, \u001B[38;5;28mself\u001B[39m\u001B[38;5;241m.\u001B[39m_pin_memory_device)\n",
      "File \u001B[1;32mD:\\APP\\miniconda\\envs\\ai_env\\lib\\site-packages\\torch\\utils\\data\\_utils\\fetch.py:52\u001B[0m, in \u001B[0;36m_MapDatasetFetcher.fetch\u001B[1;34m(self, possibly_batched_index)\u001B[0m\n\u001B[0;32m     50\u001B[0m         data \u001B[38;5;241m=\u001B[39m \u001B[38;5;28mself\u001B[39m\u001B[38;5;241m.\u001B[39mdataset\u001B[38;5;241m.\u001B[39m__getitems__(possibly_batched_index)\n\u001B[0;32m     51\u001B[0m     \u001B[38;5;28;01melse\u001B[39;00m:\n\u001B[1;32m---> 52\u001B[0m         data \u001B[38;5;241m=\u001B[39m [\u001B[38;5;28mself\u001B[39m\u001B[38;5;241m.\u001B[39mdataset[idx] \u001B[38;5;28;01mfor\u001B[39;00m idx \u001B[38;5;129;01min\u001B[39;00m possibly_batched_index]\n\u001B[0;32m     53\u001B[0m \u001B[38;5;28;01melse\u001B[39;00m:\n\u001B[0;32m     54\u001B[0m     data \u001B[38;5;241m=\u001B[39m \u001B[38;5;28mself\u001B[39m\u001B[38;5;241m.\u001B[39mdataset[possibly_batched_index]\n",
      "File \u001B[1;32mD:\\APP\\miniconda\\envs\\ai_env\\lib\\site-packages\\torch\\utils\\data\\_utils\\fetch.py:52\u001B[0m, in \u001B[0;36m<listcomp>\u001B[1;34m(.0)\u001B[0m\n\u001B[0;32m     50\u001B[0m         data \u001B[38;5;241m=\u001B[39m \u001B[38;5;28mself\u001B[39m\u001B[38;5;241m.\u001B[39mdataset\u001B[38;5;241m.\u001B[39m__getitems__(possibly_batched_index)\n\u001B[0;32m     51\u001B[0m     \u001B[38;5;28;01melse\u001B[39;00m:\n\u001B[1;32m---> 52\u001B[0m         data \u001B[38;5;241m=\u001B[39m [\u001B[38;5;28;43mself\u001B[39;49m\u001B[38;5;241;43m.\u001B[39;49m\u001B[43mdataset\u001B[49m\u001B[43m[\u001B[49m\u001B[43midx\u001B[49m\u001B[43m]\u001B[49m \u001B[38;5;28;01mfor\u001B[39;00m idx \u001B[38;5;129;01min\u001B[39;00m possibly_batched_index]\n\u001B[0;32m     53\u001B[0m \u001B[38;5;28;01melse\u001B[39;00m:\n\u001B[0;32m     54\u001B[0m     data \u001B[38;5;241m=\u001B[39m \u001B[38;5;28mself\u001B[39m\u001B[38;5;241m.\u001B[39mdataset[possibly_batched_index]\n",
      "File \u001B[1;32mD:\\APP\\miniconda\\envs\\ai_env\\lib\\site-packages\\torchvision\\datasets\\cifar.py:119\u001B[0m, in \u001B[0;36mCIFAR10.__getitem__\u001B[1;34m(self, index)\u001B[0m\n\u001B[0;32m    116\u001B[0m img \u001B[38;5;241m=\u001B[39m Image\u001B[38;5;241m.\u001B[39mfromarray(img)\n\u001B[0;32m    118\u001B[0m \u001B[38;5;28;01mif\u001B[39;00m \u001B[38;5;28mself\u001B[39m\u001B[38;5;241m.\u001B[39mtransform \u001B[38;5;129;01mis\u001B[39;00m \u001B[38;5;129;01mnot\u001B[39;00m \u001B[38;5;28;01mNone\u001B[39;00m:\n\u001B[1;32m--> 119\u001B[0m     img \u001B[38;5;241m=\u001B[39m \u001B[38;5;28;43mself\u001B[39;49m\u001B[38;5;241;43m.\u001B[39;49m\u001B[43mtransform\u001B[49m\u001B[43m(\u001B[49m\u001B[43mimg\u001B[49m\u001B[43m)\u001B[49m\n\u001B[0;32m    121\u001B[0m \u001B[38;5;28;01mif\u001B[39;00m \u001B[38;5;28mself\u001B[39m\u001B[38;5;241m.\u001B[39mtarget_transform \u001B[38;5;129;01mis\u001B[39;00m \u001B[38;5;129;01mnot\u001B[39;00m \u001B[38;5;28;01mNone\u001B[39;00m:\n\u001B[0;32m    122\u001B[0m     target \u001B[38;5;241m=\u001B[39m \u001B[38;5;28mself\u001B[39m\u001B[38;5;241m.\u001B[39mtarget_transform(target)\n",
      "File \u001B[1;32mD:\\APP\\miniconda\\envs\\ai_env\\lib\\site-packages\\torchvision\\transforms\\transforms.py:137\u001B[0m, in \u001B[0;36mToTensor.__call__\u001B[1;34m(self, pic)\u001B[0m\n\u001B[0;32m    129\u001B[0m \u001B[38;5;28;01mdef\u001B[39;00m \u001B[38;5;21m__call__\u001B[39m(\u001B[38;5;28mself\u001B[39m, pic):\n\u001B[0;32m    130\u001B[0m \u001B[38;5;250m    \u001B[39m\u001B[38;5;124;03m\"\"\"\u001B[39;00m\n\u001B[0;32m    131\u001B[0m \u001B[38;5;124;03m    Args:\u001B[39;00m\n\u001B[0;32m    132\u001B[0m \u001B[38;5;124;03m        pic (PIL Image or numpy.ndarray): Image to be converted to tensor.\u001B[39;00m\n\u001B[1;32m   (...)\u001B[0m\n\u001B[0;32m    135\u001B[0m \u001B[38;5;124;03m        Tensor: Converted image.\u001B[39;00m\n\u001B[0;32m    136\u001B[0m \u001B[38;5;124;03m    \"\"\"\u001B[39;00m\n\u001B[1;32m--> 137\u001B[0m     \u001B[38;5;28;01mreturn\u001B[39;00m \u001B[43mF\u001B[49m\u001B[38;5;241;43m.\u001B[39;49m\u001B[43mto_tensor\u001B[49m\u001B[43m(\u001B[49m\u001B[43mpic\u001B[49m\u001B[43m)\u001B[49m\n",
      "File \u001B[1;32mD:\\APP\\miniconda\\envs\\ai_env\\lib\\site-packages\\torchvision\\transforms\\functional.py:174\u001B[0m, in \u001B[0;36mto_tensor\u001B[1;34m(pic)\u001B[0m\n\u001B[0;32m    172\u001B[0m img \u001B[38;5;241m=\u001B[39m img\u001B[38;5;241m.\u001B[39mview(pic\u001B[38;5;241m.\u001B[39msize[\u001B[38;5;241m1\u001B[39m], pic\u001B[38;5;241m.\u001B[39msize[\u001B[38;5;241m0\u001B[39m], F_pil\u001B[38;5;241m.\u001B[39mget_image_num_channels(pic))\n\u001B[0;32m    173\u001B[0m \u001B[38;5;66;03m# put it from HWC to CHW format\u001B[39;00m\n\u001B[1;32m--> 174\u001B[0m img \u001B[38;5;241m=\u001B[39m \u001B[43mimg\u001B[49m\u001B[38;5;241;43m.\u001B[39;49m\u001B[43mpermute\u001B[49m\u001B[43m(\u001B[49m\u001B[43m(\u001B[49m\u001B[38;5;241;43m2\u001B[39;49m\u001B[43m,\u001B[49m\u001B[43m \u001B[49m\u001B[38;5;241;43m0\u001B[39;49m\u001B[43m,\u001B[49m\u001B[43m \u001B[49m\u001B[38;5;241;43m1\u001B[39;49m\u001B[43m)\u001B[49m\u001B[43m)\u001B[49m\u001B[38;5;241;43m.\u001B[39;49m\u001B[43mcontiguous\u001B[49m\u001B[43m(\u001B[49m\u001B[43m)\u001B[49m\n\u001B[0;32m    175\u001B[0m \u001B[38;5;28;01mif\u001B[39;00m \u001B[38;5;28misinstance\u001B[39m(img, torch\u001B[38;5;241m.\u001B[39mByteTensor):\n\u001B[0;32m    176\u001B[0m     \u001B[38;5;28;01mreturn\u001B[39;00m img\u001B[38;5;241m.\u001B[39mto(dtype\u001B[38;5;241m=\u001B[39mdefault_float_dtype)\u001B[38;5;241m.\u001B[39mdiv(\u001B[38;5;241m255\u001B[39m)\n",
      "\u001B[1;31mKeyboardInterrupt\u001B[0m: "
     ]
    }
   ],
   "execution_count": 18
  },
  {
   "metadata": {},
   "cell_type": "markdown",
   "source": [
    "如果图片是png,要加img=image.convert('RGB')\n",
    "\n",
    "因為png格式是四個通道,除了RGB三個通道,还有一个透明通道, 用上方代碼保留其顏色通道"
   ],
   "id": "16a10b6ee3a6ede0"
  },
  {
   "metadata": {
    "ExecuteTime": {
     "end_time": "2025-05-09T10:46:47.971036Z",
     "start_time": "2025-05-05T22:37:59.853116Z"
    }
   },
   "cell_type": "code",
   "source": "",
   "id": "684aa463ac672ac8",
   "outputs": [],
   "execution_count": null
  }
 ],
 "metadata": {
  "kernelspec": {
   "display_name": "Python 3",
   "language": "python",
   "name": "python3"
  },
  "language_info": {
   "codemirror_mode": {
    "name": "ipython",
    "version": 2
   },
   "file_extension": ".py",
   "mimetype": "text/x-python",
   "name": "python",
   "nbconvert_exporter": "python",
   "pygments_lexer": "ipython2",
   "version": "2.7.6"
  }
 },
 "nbformat": 4,
 "nbformat_minor": 5
}
