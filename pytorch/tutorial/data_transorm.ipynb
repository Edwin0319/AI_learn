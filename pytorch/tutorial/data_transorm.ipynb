{
 "cells": [
  {
   "cell_type": "code",
   "id": "initial_id",
   "metadata": {
    "collapsed": true,
    "ExecuteTime": {
     "end_time": "2025-05-04T03:50:56.610676Z",
     "start_time": "2025-05-04T03:50:56.596680Z"
    }
   },
   "source": [
    "import torchvision\n",
    "from torch.utils.tensorboard import SummaryWriter\n",
    "dataset_transform = torchvision.transforms.Compose([\n",
    "    torchvision.transforms.ToTensor(),\n",
    "\n",
    "])"
   ],
   "outputs": [],
   "execution_count": 12
  },
  {
   "metadata": {},
   "cell_type": "markdown",
   "source": "**download=True**不會重復下載數據，如果你已經下載了",
   "id": "b15e07d611f405b6"
  },
  {
   "metadata": {
    "ExecuteTime": {
     "end_time": "2025-05-04T03:50:57.914123Z",
     "start_time": "2025-05-04T03:50:56.955124Z"
    }
   },
   "cell_type": "code",
   "source": [
    "train_set = torchvision.datasets.CIFAR10(root='./dataset', train=True, transform=dataset_transform, download=True)\n",
    "test_set = torchvision.datasets.CIFAR10(root='./dataset', train=False, transform=dataset_transform, download=True)"
   ],
   "id": "2074875b4feaee10",
   "outputs": [
    {
     "name": "stdout",
     "output_type": "stream",
     "text": [
      "Files already downloaded and verified\n",
      "Files already downloaded and verified\n"
     ]
    }
   ],
   "execution_count": 13
  },
  {
   "metadata": {
    "ExecuteTime": {
     "end_time": "2025-05-04T03:50:58.594925Z",
     "start_time": "2025-05-04T03:50:58.580174Z"
    }
   },
   "cell_type": "code",
   "source": [
    "# print(test_set[0])\n",
    "# img, target = test_set[0]\n",
    "# print(test_set.classes[target])\n",
    "# img.show()"
   ],
   "id": "cb2c868d3d1eeb8d",
   "outputs": [],
   "execution_count": 14
  },
  {
   "metadata": {
    "ExecuteTime": {
     "end_time": "2025-05-04T03:50:59.307314Z",
     "start_time": "2025-05-04T03:50:59.276849Z"
    }
   },
   "cell_type": "code",
   "source": [
    "writer = SummaryWriter(\"p10\")\n",
    "for i in range(10):\n",
    "    img, target = test_set[i]\n",
    "    writer.add_image(\"test_set\", img, i)\n",
    "writer.close()"
   ],
   "id": "488b0a3f01624fae",
   "outputs": [],
   "execution_count": 15
  },
  {
   "metadata": {},
   "cell_type": "code",
   "outputs": [],
   "execution_count": null,
   "source": "",
   "id": "d4d2ca36ff2eedb4"
  }
 ],
 "metadata": {
  "kernelspec": {
   "display_name": "Python 3",
   "language": "python",
   "name": "python3"
  },
  "language_info": {
   "codemirror_mode": {
    "name": "ipython",
    "version": 2
   },
   "file_extension": ".py",
   "mimetype": "text/x-python",
   "name": "python",
   "nbconvert_exporter": "python",
   "pygments_lexer": "ipython2",
   "version": "2.7.6"
  }
 },
 "nbformat": 4,
 "nbformat_minor": 5
}
